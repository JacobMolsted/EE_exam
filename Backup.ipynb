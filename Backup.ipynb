{
 "cells": [
  {
   "cell_type": "markdown",
   "metadata": {},
   "source": [
    "**Back-up code for average load data**"
   ]
  },
  {
   "cell_type": "code",
   "execution_count": null,
   "metadata": {},
   "outputs": [],
   "source": [
    "#Denne linjer danner stien til vores working directory\n",
    "curr = os.getcwd()\n",
    "#Denne koder henter csv-filen\n",
    "HourlyLoad_df = read_csv_with_path(curr,\"Total_load.csv\")\n",
    "#Fjerner potentielle manglende observationer\n",
    "HourlyLoad_df = HourlyLoad_df.dropna()\n",
    "#Laver en variabel for hver time på en døgn ud fra dato værdien\n",
    "HourlyLoad_df['h_id'] = HourlyLoad_df['Time (CET/CEST)'].str[11:16]\n",
    "#Laver et index fra 1-24\n",
    "Index_h = pd.Index(list(range(1,25)), name = 'h')\n",
    "#Udregner gennemsnitlig load pr. time ud fra hele året\n",
    "Average_hourly_load = pd.Series(HourlyLoad_df.groupby('h_id')['Actual Total Load [MW] - BZN|DK2'].mean(), name = 'Average Hourly Load')\n",
    "#Navngiver indexet 1-24 i stedet for 00:00-23:00\n",
    "Average_hourly_load = Average_hourly_load.rename(index=dict(zip(Average_hourly_load.index, Index_h)))\n",
    "#Laver et dobbelt index. Vi antager en forbruger.\n",
    "Average_hourly_load.index = pd.MultiIndex.from_product([Average_hourly_load.index, ['c1']], names=['h', 'c'])"
   ]
  }
 ],
 "metadata": {
  "language_info": {
   "name": "python"
  }
 },
 "nbformat": 4,
 "nbformat_minor": 2
}
