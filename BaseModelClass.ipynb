{
 "cells": [
  {
   "cell_type": "markdown",
   "metadata": {},
   "source": [
    "Importing relevant tools"
   ]
  },
  {
   "cell_type": "code",
   "execution_count": null,
   "metadata": {},
   "outputs": [],
   "source": [
    "from lpCompiler import _blocks\n",
    "from lpModels import modelShell"
   ]
  },
  {
   "cell_type": "code",
   "execution_count": null,
   "metadata": {},
   "outputs": [],
   "source": [
    "class mSimple(modelShell):\n",
    "\t\"\"\" This class includes \n",
    "\t\t(1) An electricity market, \n",
    "\t\t(2) Electricity storage \"\"\"\n",
    "\tdef __init__(self, db, blocks = None, **kwargs):\n",
    "\t\tdb.updateAlias(alias=[(k, k+'_constr') for k in ('h','id')])\n",
    "\t\tsuper().__init__(db, blocks=blocks, **kwargs)\n",
    "\t\t\n",
    "\t@property\n",
    "\tdef globalDomains(self):\n",
    "\t\treturn {'Generation': adj.rc_pd(pd.MultiIndex.from_product([self.db['h'], self.db['id']]),getTechs(['Standard'],self.db)),\n",
    "\t\t\t\t'discharge' : adj.rc_pd(pd.MultiIndex.from_product([self.db['h'], self.db['id']]),getTechs(['Storage'],self.db)),\n",
    "\t\t\t\t'charge'\t: adj.rc_pd(pd.MultiIndex.from_product([self.db['h'], self.db['id']]),getTechs(['Storage'],self.db)),\n",
    "\t\t\t\t'stored'\t: adj.rc_pd(pd.MultiIndex.from_product([self.db['h'], self.db['id']]),getTechs(['Storage'],self.db)),\t\t\t\n",
    "\t\t\t\t'HourlyDemand': pyDbs.cartesianProductIndex([self.db['c'], self.db['h']]),\n",
    "\t\t\t\t'equilibrium': self.db['h_constr'],\n",
    "\t\t\t\t'LawOfMotion': pyDbs.cartesianProductIndex([adj.rc_AdjPd(getTechs('Storage',self.db), alias = {'id':'id_constr'}), self.db['h_constr']])}\n",
    "\n",
    "\tdef initBlocks(self, **kwargs):\n",
    "\t\t[getattr(self.blocks, f'add_{t}')(**v) for t in _blocks if hasattr(self,t) for v in getattr(self,t)];\n",
    "#From here the relevant vectors for the augmented linear programming problem is defined.\n",
    "#We see that the c vector, i.e., the vector containing the coefficients of the choice variables include four decision variables.\n",
    "\t@property\n",
    "\tdef c(self):\n",
    "\t\treturn [{'varName': 'Generation', 'value': adjMultiIndex.bc(self.db['mc'], self.globalDomains['Generation']),'conditions': getTechs(['Standard'],self.db)},\n",
    "\t\t\t\t{'varName': 'HourlyDemand','value':-adjMultiIndex.bc(self.db['MWP'], self.globalDomains['HourlyDemand'])},\n",
    "\t\t\t\t{'varName': 'discharge', 'value': adjMultiIndex.bc(self.db['mc'], self.globalDomains['discharge']),'conditions': getTechs('Storage',self.db)},\n",
    "\t\t\t\t{'varName': 'charge','value': adjMultiIndex.bc(self.db['mc'], self.globalDomains['charge']),'conditions': getTechs('Storage',self.db)}]\n",
    "\n",
    "\t@property\n",
    "\tdef u(self):\n",
    "\t\treturn [{'varName': 'Generation', 'value': adjMultiIndex.bc(self.hourlyGeneratingCap, self.globalDomains['Generation']), 'conditions': getTechs(['Standard'],self.db)},\n",
    "\t\t\t\t{'varName': 'HourlyDemand', 'value': self.hourlyLoad_c},\n",
    "\t\t\t\t{'varName': 'stored', 'value': adjMultiIndex.bc(self.db['sCap'], self.globalDomains['stored'])},\n",
    "\t\t\t\t{'varName': 'discharge', 'value': adjMultiIndex.bc(self.db['GeneratingCapacity'], self.globalDomains['discharge']), 'conditions': getTechs('Storage',self.db)},\n",
    "\t\t\t\t{'varName': 'charge', 'value': adjMultiIndex.bc(self.db['GeneratingCapacity'], self.globalDomains['charge']), 'conditions': getTechs('Storage',self.db)}]\n",
    "\t\n",
    "\t@property\n",
    "\tdef b_eq(self):\n",
    "\t\treturn [{'constrName': 'equilibrium'},{'constrName':'LawOfMotion'}]\n",
    "\t\n",
    "\t@property\n",
    "\tdef A_eq(self):\n",
    "\t\treturn [{'constrName': 'equilibrium', 'varName': 'Generation', 'value': appIndexWithCopySeries(pd.Series(1, index = self.globalDomains['Generation']), 'h','h_constr')},\n",
    "\t\t\t\t{'constrName': 'equilibrium', 'varName': 'HourlyDemand', 'value': appIndexWithCopySeries(pd.Series(-1, index = self.globalDomains['HourlyDemand']), 'h','h_constr')},\n",
    "\t\t\t\t{'constrName': 'equilibrium', 'varName': 'discharge', 'value': appIndexWithCopySeries(pd.Series(1, index = self.globalDomains['discharge']), 'h', 'h_constr')},\n",
    "\t\t\t\t{'constrName': 'equilibrium', 'varName': 'charge', 'value': appIndexWithCopySeries(pd.Series(-1, index = self.globalDomains['charge']), 'h', 'h_constr')},\n",
    "\t\t\t\t{'constrName': 'LawOfMotion', 'varName': 'stored', 'value': [appIndexWithCopySeries(pd.Series(1, index = self.globalDomains['stored']), ['id','h'], ['id_constr','h_constr']),\n",
    "\t\t\t\t\t\t\t\t\t\t\t\t\t\t\t\t\t\t\t\t rollLevelS(appIndexWithCopySeries(adjMultiIndex.bc(-1, self.globalDomains['stored']), ['id','h'], ['id_constr','h_constr']), 'h',1)]},\n",
    "\t\t\t\t{'constrName': 'LawOfMotion', 'varName': 'discharge', 'value': appIndexWithCopySeries(adjMultiIndex.bc(1/self.db['effS'], self.globalDomains['stored']), ['id','h'], ['id_constr','h_constr']), 'conditions': getTechs('Storage',self.db)},\n",
    "\t\t\t\t{'constrName': 'LawOfMotion', 'varName': 'charge', 'value': appIndexWithCopySeries(adjMultiIndex.bc(-self.db['effS'] , self.globalDomains['stored']), ['id','h'], ['id_constr','h_constr']), 'conditions': getTechs('Storage',self.db)}]\n",
    "\t"
   ]
  }
 ],
 "metadata": {
  "language_info": {
   "name": "python"
  }
 },
 "nbformat": 4,
 "nbformat_minor": 2
}
