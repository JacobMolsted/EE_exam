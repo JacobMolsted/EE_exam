{
 "cells": [
  {
   "cell_type": "code",
   "execution_count": 1,
   "id": "a6e7496d-7571-4ddc-a2ae-6109f1679003",
   "metadata": {
    "tags": []
   },
   "outputs": [],
   "source": [
    "%run stdPackages.ipynb # this imports a lot of useful packages\n",
    "\n",
    "#%run/stdPackages.ipynb\n",
    "#test2\n",
    "#tes test"
   ]
  },
  {
   "cell_type": "code",
   "execution_count": 2,
   "id": "025ea834-1513-4102-a88d-96e2331fe33a",
   "metadata": {
    "tags": []
   },
   "outputs": [],
   "source": [
    "import base\n",
    "import os \n",
    "\n",
    "def read_csv_with_path(directory_path, file_name):\n",
    "    # Use os.path.join to create the full file path\n",
    "    file_path = os.path.join(directory_path, file_name)\n",
    "    \n",
    "    # Use the read_csv function to load the data into a pandas DataFrame\n",
    "    df = pd.read_csv(file_path)\n",
    "    \n",
    "    return df"
   ]
  },
  {
   "cell_type": "markdown",
   "metadata": {},
   "source": [
    "Data og parametre"
   ]
  },
  {
   "cell_type": "code",
   "execution_count": 18,
   "metadata": {},
   "outputs": [],
   "source": [
    "#Laver vores database\n",
    "db = pyDbs.SimpleDB()\n",
    "#Tilføjer parametre\n",
    "db['MWP'] = 50"
   ]
  },
  {
   "cell_type": "markdown",
   "metadata": {},
   "source": [
    "Downloading data: Load data"
   ]
  },
  {
   "cell_type": "code",
   "execution_count": 14,
   "id": "abfa06f0-2674-43ff-8a91-15d64c3487f3",
   "metadata": {
    "tags": []
   },
   "outputs": [],
   "source": [
    "#Denne linjer danner stien til vores working directory\n",
    "curr = os.getcwd()\n",
    "#Denne koder henter csv-filen\n",
    "HourlyLoad_df = read_csv_with_path(curr,\"Total_load.csv\")\n",
    "#Fjerner potentielle manglende observationer\n",
    "HourlyLoad_df = HourlyLoad_df.dropna()\n",
    "#Laver en variabel for hver time på en døgn ud fra dato værdien\n",
    "HourlyLoad_df['h_id'] = HourlyLoad_df['Time (CET/CEST)'].str[11:16]\n",
    "#Laver et index fra 1-24\n",
    "Index_h = pd.Index(list(range(1,25)), name = 'h')\n",
    "#Udregner gennemsnitlig load pr. time ud fra hele året\n",
    "Average_hourly_load = pd.Series(HourlyLoad_df.groupby('h_id')['Actual Total Load [MW] - BZN|DK2'].mean(), name = 'Average Hourly Load')\n",
    "#Navngiver indexet 1-24 i stedet for 00:00-23:00\n",
    "Average_hourly_load = Average_hourly_load.rename(index=dict(zip(Average_hourly_load.index, Index_h)))\n",
    "#Laver et dobbelt index. Vi antager en forbruger.\n",
    "Average_hourly_load.index = pd.MultiIndex.from_product([Average_hourly_load.index, ['c1']], names=['h', 'consumer'])"
   ]
  },
  {
   "cell_type": "code",
   "execution_count": 15,
   "id": "7e19c172-f234-4ebd-9c13-77ae21f9b585",
   "metadata": {},
   "outputs": [
    {
     "data": {
      "text/plain": [
       "h   consumer\n",
       "1   c1          1251.202740\n",
       "2   c1          1201.383562\n",
       "3   c1          1169.797260\n",
       "4   c1          1157.789041\n",
       "5   c1          1158.621918\n",
       "6   c1          1210.189041\n",
       "7   c1          1356.353425\n",
       "8   c1          1514.895890\n",
       "9   c1          1611.136986\n",
       "10  c1          1660.983562\n",
       "11  c1          1692.493151\n",
       "12  c1          1690.397260\n",
       "13  c1          1683.194521\n",
       "14  c1          1672.112329\n",
       "15  c1          1649.980822\n",
       "16  c1          1628.378082\n",
       "17  c1          1657.315068\n",
       "18  c1          1747.443836\n",
       "19  c1          1736.723288\n",
       "20  c1          1646.265753\n",
       "21  c1          1560.821918\n",
       "22  c1          1482.054795\n",
       "23  c1          1400.153425\n",
       "24  c1          1316.602740\n",
       "Name: Average Hourly Load, dtype: float64"
      ]
     },
     "execution_count": 15,
     "metadata": {},
     "output_type": "execute_result"
    }
   ],
   "source": [
    "Average_hourly_load"
   ]
  },
  {
   "cell_type": "code",
   "execution_count": 17,
   "metadata": {},
   "outputs": [
    {
     "data": {
      "text/plain": [
       "h   consumer\n",
       "1   c1          1251.202740\n",
       "2   c1          1201.383562\n",
       "3   c1          1169.797260\n",
       "4   c1          1157.789041\n",
       "5   c1          1158.621918\n",
       "6   c1          1210.189041\n",
       "7   c1          1356.353425\n",
       "8   c1          1514.895890\n",
       "9   c1          1611.136986\n",
       "10  c1          1660.983562\n",
       "11  c1          1692.493151\n",
       "12  c1          1690.397260\n",
       "13  c1          1683.194521\n",
       "14  c1          1672.112329\n",
       "15  c1          1649.980822\n",
       "16  c1          1628.378082\n",
       "17  c1          1657.315068\n",
       "18  c1          1747.443836\n",
       "19  c1          1736.723288\n",
       "20  c1          1646.265753\n",
       "21  c1          1560.821918\n",
       "22  c1          1482.054795\n",
       "23  c1          1400.153425\n",
       "24  c1          1316.602740\n",
       "Name: Average Hourly Load, dtype: float64"
      ]
     },
     "execution_count": 17,
     "metadata": {},
     "output_type": "execute_result"
    }
   ],
   "source": [
    "#Tilføjer databasen\n",
    "db['Max hourly load'] = Average_hourly_load\n",
    "db['Max hourly load']"
   ]
  },
  {
   "cell_type": "code",
   "execution_count": null,
   "id": "b8f4c02e-4565-4f55-8603-821429ab60e8",
   "metadata": {},
   "outputs": [],
   "source": []
  }
 ],
 "metadata": {
  "kernelspec": {
   "display_name": "Python 3 (ipykernel)",
   "language": "python",
   "name": "python3"
  },
  "language_info": {
   "codemirror_mode": {
    "name": "ipython",
    "version": 3
   },
   "file_extension": ".py",
   "mimetype": "text/x-python",
   "name": "python",
   "nbconvert_exporter": "python",
   "pygments_lexer": "ipython3",
   "version": "3.11.3"
  }
 },
 "nbformat": 4,
 "nbformat_minor": 5
}
