{
 "cells": [
  {
   "cell_type": "code",
   "execution_count": 1,
   "id": "a6e7496d-7571-4ddc-a2ae-6109f1679003",
   "metadata": {
    "tags": []
   },
   "outputs": [],
   "source": [
    "%run stdPackages.ipynb # this imports a lot of useful packages\n",
    "\n",
    "#%run/stdPackages.ipynb\n",
    "#test2\n",
    "#tes test"
   ]
  },
  {
   "cell_type": "code",
   "execution_count": 2,
   "id": "025ea834-1513-4102-a88d-96e2331fe33a",
   "metadata": {
    "tags": []
   },
   "outputs": [],
   "source": [
    "import base\n",
    "import os \n",
    "\n",
    "def read_csv_with_path(directory_path, file_name):\n",
    "    # Use os.path.join to create the full file path\n",
    "    file_path = os.path.join(directory_path, file_name)\n",
    "    \n",
    "    # Use the read_csv function to load the data into a pandas DataFrame\n",
    "    df = pd.read_csv(file_path, header=0)\n",
    "    \n",
    "    return df"
   ]
  },
  {
   "cell_type": "markdown",
   "metadata": {},
   "source": [
    "**Parameters and database**"
   ]
  },
  {
   "cell_type": "code",
   "execution_count": 110,
   "metadata": {},
   "outputs": [
    {
     "data": {
      "text/plain": [
       "c\n",
       "c1    50\n",
       "Name: MWP, dtype: int64"
      ]
     },
     "execution_count": 110,
     "metadata": {},
     "output_type": "execute_result"
    }
   ],
   "source": [
    "#Creating database\n",
    "db = pyDbs.SimpleDB()\n",
    "#Adding parameters\n",
    "#MWP\n",
    "MarginalWillingness = pd.Series([50], name = 'MWP', index=['c1'])\n",
    "MarginalWillingness.index.name = 'c'\n",
    "db['MWP'] = MarginalWillingness\n",
    "#Electricity storage capacity\n",
    "storage = pd.Series([0], name = 'scap', index=['Storage'])\n",
    "\n",
    "storage.index.name = 'id'\n",
    "db['sCap'] = storage\n",
    "\n",
    "#Charge/discharge efficiency (MUST BE UPDATED ACCORDING TO ENERGIKATALOG)\n",
    "efficiency = pd.Series([0.9], name = 'effs', index=['Storage'])\n",
    "efficiency.index.name = 'id'\n",
    "db['effS'] = efficiency\n",
    "db['MWP']"
   ]
  },
  {
   "cell_type": "markdown",
   "metadata": {},
   "source": [
    "**Load variation and actual load**"
   ]
  },
  {
   "cell_type": "code",
   "execution_count": 102,
   "id": "abfa06f0-2674-43ff-8a91-15d64c3487f3",
   "metadata": {
    "tags": []
   },
   "outputs": [
    {
     "data": {
      "text/plain": [
       "c   h   \n",
       "c1  1       1387.0\n",
       "    2       1340.0\n",
       "    3       1284.0\n",
       "    4       1244.0\n",
       "    5       1230.0\n",
       "             ...  \n",
       "    8756    1584.0\n",
       "    8757    1466.0\n",
       "    8758    1408.0\n",
       "    8759    1350.0\n",
       "    8760    1325.0\n",
       "Name: Actual Total Load [MW] - BZN|DK2, Length: 8760, dtype: float64"
      ]
     },
     "execution_count": 102,
     "metadata": {},
     "output_type": "execute_result"
    }
   ],
   "source": [
    "#Creating path to working directory\n",
    "curr = os.getcwd()\n",
    "#Creating a dataframe with data\n",
    "HourlyLoad_df = read_csv_with_path(curr,\"Total_load.csv\")\n",
    "#Removing potential missing obs (In this case it is the blank hour from when changing to summer time)\n",
    "HourlyLoad_df = HourlyLoad_df.dropna()\n",
    "#Creating an index for hours in a year\n",
    "index_hours_year = range(1,8761)\n",
    "HourlyLoad_df.index = pd.MultiIndex.from_product([['c1'], index_hours_year], names=['c', 'h'])\n",
    "HourlyLoad_df = HourlyLoad_df['Actual Total Load [MW] - BZN|DK2']\n",
    "HourlyLoad_df\n",
    "#Note that we have the actual data. So we do not need to calculate anything in the model, i.e., no need for Load X Load Variation\n"
   ]
  },
  {
   "cell_type": "code",
   "execution_count": 103,
   "metadata": {},
   "outputs": [
    {
     "data": {
      "text/plain": [
       "c   h   \n",
       "c1  1       1387.0\n",
       "    2       1340.0\n",
       "    3       1284.0\n",
       "    4       1244.0\n",
       "    5       1230.0\n",
       "             ...  \n",
       "    8756    1584.0\n",
       "    8757    1466.0\n",
       "    8758    1408.0\n",
       "    8759    1350.0\n",
       "    8760    1325.0\n",
       "Name: Actual Total Load [MW] - BZN|DK2, Length: 8760, dtype: float64"
      ]
     },
     "execution_count": 103,
     "metadata": {},
     "output_type": "execute_result"
    }
   ],
   "source": [
    "#Tilføjer databasen\n",
    "db['Max hourly load'] = HourlyLoad_df\n",
    "db['Max hourly load']"
   ]
  },
  {
   "cell_type": "code",
   "execution_count": null,
   "id": "d18a389f",
   "metadata": {},
   "outputs": [],
   "source": []
  },
  {
   "cell_type": "markdown",
   "id": "bac2b57c",
   "metadata": {},
   "source": [
    "**Generating Capacity**"
   ]
  },
  {
   "cell_type": "code",
   "execution_count": 36,
   "id": "b8f4c02e-4565-4f55-8603-821429ab60e8",
   "metadata": {},
   "outputs": [
    {
     "data": {
      "text/html": [
       "<div>\n",
       "<style scoped>\n",
       "    .dataframe tbody tr th:only-of-type {\n",
       "        vertical-align: middle;\n",
       "    }\n",
       "\n",
       "    .dataframe tbody tr th {\n",
       "        vertical-align: top;\n",
       "    }\n",
       "\n",
       "    .dataframe thead th {\n",
       "        text-align: right;\n",
       "    }\n",
       "</style>\n",
       "<table border=\"1\" class=\"dataframe\">\n",
       "  <thead>\n",
       "    <tr style=\"text-align: right;\">\n",
       "      <th></th>\n",
       "      <th>GeneratingCapacity</th>\n",
       "    </tr>\n",
       "    <tr>\n",
       "      <th>id</th>\n",
       "      <th></th>\n",
       "    </tr>\n",
       "  </thead>\n",
       "  <tbody>\n",
       "    <tr>\n",
       "      <th>Biomass</th>\n",
       "      <td>1179</td>\n",
       "    </tr>\n",
       "    <tr>\n",
       "      <th>Fossil Gas</th>\n",
       "      <td>603</td>\n",
       "    </tr>\n",
       "    <tr>\n",
       "      <th>Fossil Hard coal</th>\n",
       "      <td>1222</td>\n",
       "    </tr>\n",
       "    <tr>\n",
       "      <th>Fossil Oil</th>\n",
       "      <td>801</td>\n",
       "    </tr>\n",
       "    <tr>\n",
       "      <th>Other renewable</th>\n",
       "      <td>24</td>\n",
       "    </tr>\n",
       "    <tr>\n",
       "      <th>Solar</th>\n",
       "      <td>450</td>\n",
       "    </tr>\n",
       "    <tr>\n",
       "      <th>Waste</th>\n",
       "      <td>173</td>\n",
       "    </tr>\n",
       "    <tr>\n",
       "      <th>Wind Offshore</th>\n",
       "      <td>1028</td>\n",
       "    </tr>\n",
       "    <tr>\n",
       "      <th>Wind Onshore</th>\n",
       "      <td>756</td>\n",
       "    </tr>\n",
       "  </tbody>\n",
       "</table>\n",
       "</div>"
      ],
      "text/plain": [
       "                  GeneratingCapacity\n",
       "id                                  \n",
       "Biomass                         1179\n",
       "Fossil Gas                       603\n",
       "Fossil Hard coal                1222\n",
       "Fossil Oil                       801\n",
       "Other renewable                   24\n",
       "Solar                            450\n",
       "Waste                            173\n",
       "Wind Offshore                   1028\n",
       "Wind Onshore                     756"
      ]
     },
     "execution_count": 36,
     "metadata": {},
     "output_type": "execute_result"
    }
   ],
   "source": [
    "InstalledCap_df = read_csv_with_path(curr,\"Installed_capacity.csv\")\n",
    "\n",
    "#Removing N/E values such that we only have generators with generation values\n",
    "InstalledCap_df['2022 [MW]'].replace(['n/e', 0], pd.NA, inplace=True)\n",
    "\n",
    "# Drop rows where '2022 [MW]' is NaN or 0\n",
    "InstalledCap_df = InstalledCap_df.dropna(subset=['2022 [MW]'])\n",
    "\n",
    "# Convert the '2022 [MW]' column to numeric and round to 2 decimal places\n",
    "InstalledCap_df['2022 [MW]'] = pd.to_numeric(InstalledCap_df['2022 [MW]'], errors='coerce').round(2)\n",
    "\n",
    "# Drop rows where '2022 [MW]' is less than or equal to 1 and removing total row\n",
    "InstalledCap_df = InstalledCap_df[InstalledCap_df['2022 [MW]'] > 0]\n",
    "InstalledCap_df = InstalledCap_df[InstalledCap_df['Production Type']!= 'Total Grand capacity'].rename(columns={'Production Type': 'id'})\n",
    "\n",
    "#Resetting the index to the name of plant renamed to id then renaming column\n",
    "InstalledCap_df.set_index('id', inplace=True)\n",
    "InstalledCap_df = InstalledCap_df.rename(columns={'2022 [MW]': 'GeneratingCapacity'})\n",
    "\n",
    "#Finally we add it to the db\n",
    "db['GeneratingCapacity'] = InstalledCap_df\n",
    "db['GeneratingCapacity']"
   ]
  },
  {
   "cell_type": "markdown",
   "metadata": {},
   "source": [
    "**Capacity variation**"
   ]
  },
  {
   "cell_type": "code",
   "execution_count": 89,
   "id": "f3a662f0",
   "metadata": {},
   "outputs": [
    {
     "data": {
      "text/html": [
       "<div>\n",
       "<style scoped>\n",
       "    .dataframe tbody tr th:only-of-type {\n",
       "        vertical-align: middle;\n",
       "    }\n",
       "\n",
       "    .dataframe tbody tr th {\n",
       "        vertical-align: top;\n",
       "    }\n",
       "\n",
       "    .dataframe thead th {\n",
       "        text-align: right;\n",
       "    }\n",
       "</style>\n",
       "<table border=\"1\" class=\"dataframe\">\n",
       "  <thead>\n",
       "    <tr style=\"text-align: right;\">\n",
       "      <th></th>\n",
       "      <th>Wind Offshore</th>\n",
       "      <th>Wind Onshore</th>\n",
       "      <th>Solar</th>\n",
       "      <th>Standard</th>\n",
       "    </tr>\n",
       "    <tr>\n",
       "      <th>h</th>\n",
       "      <th></th>\n",
       "      <th></th>\n",
       "      <th></th>\n",
       "      <th></th>\n",
       "    </tr>\n",
       "  </thead>\n",
       "  <tbody>\n",
       "    <tr>\n",
       "      <th>1</th>\n",
       "      <td>0.788911</td>\n",
       "      <td>0.415344</td>\n",
       "      <td>0.0</td>\n",
       "      <td>1</td>\n",
       "    </tr>\n",
       "    <tr>\n",
       "      <th>2</th>\n",
       "      <td>0.830739</td>\n",
       "      <td>0.451058</td>\n",
       "      <td>0.0</td>\n",
       "      <td>1</td>\n",
       "    </tr>\n",
       "    <tr>\n",
       "      <th>3</th>\n",
       "      <td>0.855058</td>\n",
       "      <td>0.436508</td>\n",
       "      <td>0.0</td>\n",
       "      <td>1</td>\n",
       "    </tr>\n",
       "    <tr>\n",
       "      <th>4</th>\n",
       "      <td>0.777237</td>\n",
       "      <td>0.370370</td>\n",
       "      <td>0.0</td>\n",
       "      <td>1</td>\n",
       "    </tr>\n",
       "    <tr>\n",
       "      <th>5</th>\n",
       "      <td>0.626459</td>\n",
       "      <td>0.355820</td>\n",
       "      <td>0.0</td>\n",
       "      <td>1</td>\n",
       "    </tr>\n",
       "  </tbody>\n",
       "</table>\n",
       "</div>"
      ],
      "text/plain": [
       "   Wind Offshore  Wind Onshore  Solar  Standard\n",
       "h                                              \n",
       "1       0.788911      0.415344    0.0         1\n",
       "2       0.830739      0.451058    0.0         1\n",
       "3       0.855058      0.436508    0.0         1\n",
       "4       0.777237      0.370370    0.0         1\n",
       "5       0.626459      0.355820    0.0         1"
      ]
     },
     "execution_count": 89,
     "metadata": {},
     "output_type": "execute_result"
    }
   ],
   "source": [
    "ActualGen_df = read_csv_with_path(curr,\"Actual_generation.csv\")\n",
    "ActualGen_df.replace(['n/e', 0], pd.NA, inplace=True)\n",
    "\n",
    "#Dropping the empty hour from changing to summer time\n",
    "ActualGen_df = ActualGen_df[ActualGen_df['MTU'] != '27.03.2022 02:00 - 27.03.2022 03:00 (CET/CEST)']\n",
    "#Laver en variabel for hver time på en døgn ud fra dato værdien\n",
    "ActualGen_df['h'] = ActualGen_df['MTU'].str[11:16]\n",
    "\n",
    "\n",
    "#Creating a new pandas series that will containt the hourly capacity variation\n",
    "CapVariation_df = pd.DataFrame()\n",
    "#Adding columns\n",
    "CapVariation_df['Wind Offshore'] = ActualGen_df['Wind Offshore  - Actual Aggregated [MW]']/1028\n",
    "CapVariation_df['Wind Onshore'] = ActualGen_df['Wind Onshore  - Actual Aggregated [MW]']/756\n",
    "CapVariation_df['Solar'] = ActualGen_df['Solar  - Actual Aggregated [MW]']/450\n",
    "#Adding this column to account for all none intermittent generators with non-varying capacity\n",
    "CapVariation_df['Standard'] = 1\n",
    "CapVariation_df.fillna(0, inplace=True)\n",
    "\n",
    "#Creating an index of the hours of the year\n",
    "index_year_hours = range(1, 8761)\n",
    "CapVariation_df.index = index_year_hours\n",
    "CapVariation_df.index.name = 'h'\n",
    "\n",
    "CapVariation_df.head()\n"
   ]
  },
  {
   "cell_type": "code",
   "execution_count": 97,
   "metadata": {},
   "outputs": [
    {
     "name": "stdout",
     "output_type": "stream",
     "text": [
      "                    CapVariation\n",
      "h    hvt                        \n",
      "1    Solar              0.000000\n",
      "     Standard           1.000000\n",
      "     Wind Offshore      0.788911\n",
      "     Wind Onshore       0.415344\n",
      "2    Solar              0.000000\n",
      "...                          ...\n",
      "8759 Wind Onshore       0.318783\n",
      "8760 Solar              0.000000\n",
      "     Standard           1.000000\n",
      "     Wind Offshore      0.864786\n",
      "     Wind Onshore       0.362434\n",
      "\n",
      "[35040 rows x 1 columns]\n"
     ]
    }
   ],
   "source": [
    "#Transforming data into required format to run the model from class\n",
    "melted_df = pd.melt(CapVariation_df.reset_index(), id_vars=['h'], var_name='hvt', value_name='CapVariation')\n",
    "#Setting the index\n",
    "melted_df = melted_df.set_index(['h', 'hvt'])\n",
    "\n",
    "melted_df = melted_df.sort_values(by=['h','hvt'])\n",
    "# Print the resulting DataFrame\n",
    "melted_df.head(16)\n",
    "\n",
    "#Adding to the database\n",
    "db['CapVariation'] = melted_df\n",
    "print(db['CapVariation'])"
   ]
  },
  {
   "cell_type": "code",
   "execution_count": null,
   "metadata": {},
   "outputs": [],
   "source": []
  }
 ],
 "metadata": {
  "kernelspec": {
   "display_name": "Python 3 (ipykernel)",
   "language": "python",
   "name": "python3"
  },
  "language_info": {
   "codemirror_mode": {
    "name": "ipython",
    "version": 3
   },
   "file_extension": ".py",
   "mimetype": "text/x-python",
   "name": "python",
   "nbconvert_exporter": "python",
   "pygments_lexer": "ipython3",
   "version": "3.11.3"
  }
 },
 "nbformat": 4,
 "nbformat_minor": 5
}
