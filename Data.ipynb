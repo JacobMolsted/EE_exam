{
 "cells": [
  {
   "cell_type": "code",
   "execution_count": 9,
   "id": "a6e7496d-7571-4ddc-a2ae-6109f1679003",
   "metadata": {
    "tags": []
   },
   "outputs": [
    {
     "name": "stderr",
     "output_type": "stream",
     "text": [
      "UsageError: Line magic function `%run/stdPackages.ipynb` not found.\n"
     ]
    }
   ],
   "source": [
    "#%run stdPackages.ipynb # this imports a lot of useful packages\n",
    "\n",
    "%run/stdPackages.ipynb\n",
    "\n",
    "test\n"
   ]
  },
  {
   "cell_type": "code",
   "execution_count": 11,
   "id": "025ea834-1513-4102-a88d-96e2331fe33a",
   "metadata": {
    "tags": []
   },
   "outputs": [],
   "source": [
    "import base\n",
    "import os\n",
    "\n",
    "def read_csv_with_path(directory_path, file_name):\n",
    "    # Use os.path.join to create the full file path\n",
    "    file_path = os.path.join(directory_path, file_name)\n",
    "    \n",
    "    # Use the read_csv function to load the data into a pandas DataFrame\n",
    "    df = pd.read_csv(file_path)\n",
    "    \n",
    "    return df"
   ]
  },
  {
   "cell_type": "code",
   "execution_count": 26,
   "id": "abfa06f0-2674-43ff-8a91-15d64c3487f3",
   "metadata": {
    "tags": []
   },
   "outputs": [
    {
     "data": {
      "text/html": [
       "<div>\n",
       "<style scoped>\n",
       "    .dataframe tbody tr th:only-of-type {\n",
       "        vertical-align: middle;\n",
       "    }\n",
       "\n",
       "    .dataframe tbody tr th {\n",
       "        vertical-align: top;\n",
       "    }\n",
       "\n",
       "    .dataframe thead th {\n",
       "        text-align: right;\n",
       "    }\n",
       "</style>\n",
       "<table border=\"1\" class=\"dataframe\">\n",
       "  <thead>\n",
       "    <tr style=\"text-align: right;\">\n",
       "      <th></th>\n",
       "      <th>Time (CET/CEST)</th>\n",
       "      <th>Day-ahead Total Load Forecast [MW] - BZN|DK2</th>\n",
       "      <th>Actual Total Load [MW] - BZN|DK2</th>\n",
       "    </tr>\n",
       "  </thead>\n",
       "  <tbody>\n",
       "    <tr>\n",
       "      <th>0</th>\n",
       "      <td>01.01.2022 00:00 - 01.01.2022 01:00</td>\n",
       "      <td>1383.0</td>\n",
       "      <td>1387.0</td>\n",
       "    </tr>\n",
       "    <tr>\n",
       "      <th>1</th>\n",
       "      <td>01.01.2022 01:00 - 01.01.2022 02:00</td>\n",
       "      <td>1340.0</td>\n",
       "      <td>1340.0</td>\n",
       "    </tr>\n",
       "    <tr>\n",
       "      <th>2</th>\n",
       "      <td>01.01.2022 02:00 - 01.01.2022 03:00</td>\n",
       "      <td>1280.0</td>\n",
       "      <td>1284.0</td>\n",
       "    </tr>\n",
       "    <tr>\n",
       "      <th>3</th>\n",
       "      <td>01.01.2022 03:00 - 01.01.2022 04:00</td>\n",
       "      <td>1238.0</td>\n",
       "      <td>1244.0</td>\n",
       "    </tr>\n",
       "    <tr>\n",
       "      <th>4</th>\n",
       "      <td>01.01.2022 04:00 - 01.01.2022 05:00</td>\n",
       "      <td>1212.0</td>\n",
       "      <td>1230.0</td>\n",
       "    </tr>\n",
       "    <tr>\n",
       "      <th>...</th>\n",
       "      <td>...</td>\n",
       "      <td>...</td>\n",
       "      <td>...</td>\n",
       "    </tr>\n",
       "    <tr>\n",
       "      <th>8756</th>\n",
       "      <td>31.12.2022 19:00 - 31.12.2022 20:00</td>\n",
       "      <td>1592.0</td>\n",
       "      <td>1584.0</td>\n",
       "    </tr>\n",
       "    <tr>\n",
       "      <th>8757</th>\n",
       "      <td>31.12.2022 20:00 - 31.12.2022 21:00</td>\n",
       "      <td>1448.0</td>\n",
       "      <td>1466.0</td>\n",
       "    </tr>\n",
       "    <tr>\n",
       "      <th>8758</th>\n",
       "      <td>31.12.2022 21:00 - 31.12.2022 22:00</td>\n",
       "      <td>1396.0</td>\n",
       "      <td>1408.0</td>\n",
       "    </tr>\n",
       "    <tr>\n",
       "      <th>8759</th>\n",
       "      <td>31.12.2022 22:00 - 31.12.2022 23:00</td>\n",
       "      <td>1343.0</td>\n",
       "      <td>1350.0</td>\n",
       "    </tr>\n",
       "    <tr>\n",
       "      <th>8760</th>\n",
       "      <td>31.12.2022 23:00 - 01.01.2023 00:00</td>\n",
       "      <td>1283.0</td>\n",
       "      <td>1325.0</td>\n",
       "    </tr>\n",
       "  </tbody>\n",
       "</table>\n",
       "<p>8761 rows × 3 columns</p>\n",
       "</div>"
      ],
      "text/plain": [
       "                          Time (CET/CEST)  \\\n",
       "0     01.01.2022 00:00 - 01.01.2022 01:00   \n",
       "1     01.01.2022 01:00 - 01.01.2022 02:00   \n",
       "2     01.01.2022 02:00 - 01.01.2022 03:00   \n",
       "3     01.01.2022 03:00 - 01.01.2022 04:00   \n",
       "4     01.01.2022 04:00 - 01.01.2022 05:00   \n",
       "...                                   ...   \n",
       "8756  31.12.2022 19:00 - 31.12.2022 20:00   \n",
       "8757  31.12.2022 20:00 - 31.12.2022 21:00   \n",
       "8758  31.12.2022 21:00 - 31.12.2022 22:00   \n",
       "8759  31.12.2022 22:00 - 31.12.2022 23:00   \n",
       "8760  31.12.2022 23:00 - 01.01.2023 00:00   \n",
       "\n",
       "      Day-ahead Total Load Forecast [MW] - BZN|DK2  \\\n",
       "0                                           1383.0   \n",
       "1                                           1340.0   \n",
       "2                                           1280.0   \n",
       "3                                           1238.0   \n",
       "4                                           1212.0   \n",
       "...                                            ...   \n",
       "8756                                        1592.0   \n",
       "8757                                        1448.0   \n",
       "8758                                        1396.0   \n",
       "8759                                        1343.0   \n",
       "8760                                        1283.0   \n",
       "\n",
       "      Actual Total Load [MW] - BZN|DK2  \n",
       "0                               1387.0  \n",
       "1                               1340.0  \n",
       "2                               1284.0  \n",
       "3                               1244.0  \n",
       "4                               1230.0  \n",
       "...                                ...  \n",
       "8756                            1584.0  \n",
       "8757                            1466.0  \n",
       "8758                            1408.0  \n",
       "8759                            1350.0  \n",
       "8760                            1325.0  \n",
       "\n",
       "[8761 rows x 3 columns]"
      ]
     },
     "execution_count": 26,
     "metadata": {},
     "output_type": "execute_result"
    }
   ],
   "source": [
    "#HourlyLoad_df = read_csv_with_path(r\"C:\\Users\\swkle\\OneDrive\\Energy Economics\\Exam\\Data\",\"Hourly_load_data.csv\")\n",
    "curr = os.getcwd()\n",
    "HourlyLoad_df = read_csv_with_path(curr,\"Total_load.csv\")\n",
    "HourlyLoad_df \n",
    "\n",
    "\n",
    "#HourlyLoad_df = HourlyLoad_df.dropna()\n",
    "#HourlyLoad_df.head(26)\n"
   ]
  },
  {
   "cell_type": "code",
   "execution_count": null,
   "id": "7e19c172-f234-4ebd-9c13-77ae21f9b585",
   "metadata": {},
   "outputs": [],
   "source": []
  },
  {
   "cell_type": "code",
   "execution_count": null,
   "id": "b8f4c02e-4565-4f55-8603-821429ab60e8",
   "metadata": {},
   "outputs": [],
   "source": []
  }
 ],
 "metadata": {
  "kernelspec": {
   "display_name": "Python 3 (ipykernel)",
   "language": "python",
   "name": "python3"
  },
  "language_info": {
   "codemirror_mode": {
    "name": "ipython",
    "version": 3
   },
   "file_extension": ".py",
   "mimetype": "text/x-python",
   "name": "python",
   "nbconvert_exporter": "python",
   "pygments_lexer": "ipython3",
   "version": "3.11.4"
  }
 },
 "nbformat": 4,
 "nbformat_minor": 5
}
