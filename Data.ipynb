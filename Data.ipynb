{
 "cells": [
  {
   "cell_type": "code",
   "execution_count": 7,
   "id": "a6e7496d-7571-4ddc-a2ae-6109f1679003",
   "metadata": {
    "tags": []
   },
   "outputs": [
    {
     "name": "stderr",
     "output_type": "stream",
     "text": [
      "UsageError: Line magic function `%run/stdPackages.ipynb` not found.\n"
     ]
    }
   ],
   "source": [
    "#%run stdPackages.ipynb # this imports a lot of useful packages\n",
    "\n",
    "%run/stdPackages.ipynb\n",
    "#test2\n"
   ]
  },
  {
   "cell_type": "code",
   "execution_count": 8,
   "id": "025ea834-1513-4102-a88d-96e2331fe33a",
   "metadata": {
    "tags": []
   },
   "outputs": [],
   "source": [
    "import base\n",
    "import os \n",
    "\n",
    "def read_csv_with_path(directory_path, file_name):\n",
    "    # Use os.path.join to create the full file path\n",
    "    file_path = os.path.join(directory_path, file_name)\n",
    "    \n",
    "    # Use the read_csv function to load the data into a pandas DataFrame\n",
    "    df = pd.read_csv(file_path)\n",
    "    \n",
    "    return df"
   ]
  },
  {
   "cell_type": "code",
   "execution_count": 12,
   "id": "abfa06f0-2674-43ff-8a91-15d64c3487f3",
   "metadata": {
    "tags": []
   },
   "outputs": [],
   "source": [
    "curr = os.getcwd()\n",
    "HourlyLoad_df = read_csv_with_path(curr,\"Total_load.csv\")\n",
    "HourlyLoad_df = HourlyLoad_df.dropna()\n",
    "HourlyLoad_df['h_id'] = HourlyLoad_df['Time (CET/CEST)'].str[11:16]\n",
    "Average_hourly_load = pd.Series(HourlyLoad_df.groupby('h_id')['Actual Total Load [MW] - BZN|DK2'].mean(), name = 'Average Hourly Load')"
   ]
  },
  {
   "cell_type": "code",
   "execution_count": 13,
   "id": "7e19c172-f234-4ebd-9c13-77ae21f9b585",
   "metadata": {},
   "outputs": [
    {
     "data": {
      "text/plain": [
       "h_id\n",
       "00:00    1251.202740\n",
       "01:00    1201.383562\n",
       "02:00    1169.797260\n",
       "03:00    1157.789041\n",
       "04:00    1158.621918\n",
       "05:00    1210.189041\n",
       "06:00    1356.353425\n",
       "07:00    1514.895890\n",
       "08:00    1611.136986\n",
       "09:00    1660.983562\n",
       "10:00    1692.493151\n",
       "11:00    1690.397260\n",
       "12:00    1683.194521\n",
       "13:00    1672.112329\n",
       "14:00    1649.980822\n",
       "15:00    1628.378082\n",
       "16:00    1657.315068\n",
       "17:00    1747.443836\n",
       "18:00    1736.723288\n",
       "19:00    1646.265753\n",
       "20:00    1560.821918\n",
       "21:00    1482.054795\n",
       "22:00    1400.153425\n",
       "23:00    1316.602740\n",
       "Name: Average Hourly Load, dtype: float64"
      ]
     },
     "execution_count": 13,
     "metadata": {},
     "output_type": "execute_result"
    }
   ],
   "source": [
    "Average_hourly_load"
   ]
  },
  {
   "cell_type": "code",
   "execution_count": null,
   "id": "b8f4c02e-4565-4f55-8603-821429ab60e8",
   "metadata": {},
   "outputs": [],
   "source": []
  }
 ],
 "metadata": {
  "kernelspec": {
   "display_name": "Python 3 (ipykernel)",
   "language": "python",
   "name": "python3"
  },
  "language_info": {
   "codemirror_mode": {
    "name": "ipython",
    "version": 3
   },
   "file_extension": ".py",
   "mimetype": "text/x-python",
   "name": "python",
   "nbconvert_exporter": "python",
   "pygments_lexer": "ipython3",
   "version": "3.11.4"
  }
 },
 "nbformat": 4,
 "nbformat_minor": 5
}
