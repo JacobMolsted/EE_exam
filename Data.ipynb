{
 "cells": [
  {
   "cell_type": "code",
   "execution_count": 4,
   "id": "a6e7496d-7571-4ddc-a2ae-6109f1679003",
   "metadata": {
    "tags": []
   },
   "outputs": [
    {
     "name": "stderr",
     "output_type": "stream",
     "text": [
      "UsageError: Line magic function `%run/stdPackages.ipynb` not found.\n"
     ]
    }
   ],
   "source": [
    "#%run stdPackages.ipynb # this imports a lot of useful packages\n",
    "\n",
    "%run/stdPackages.ipynb\n",
    "#test2\n"
   ]
  },
  {
   "cell_type": "code",
   "execution_count": 5,
   "id": "025ea834-1513-4102-a88d-96e2331fe33a",
   "metadata": {
    "tags": []
   },
   "outputs": [],
   "source": [
    "import base\n",
    "import os\n",
    "\n",
    "def read_csv_with_path(directory_path, file_name):\n",
    "    # Use os.path.join to create the full file path\n",
    "    file_path = os.path.join(directory_path, file_name)\n",
    "    \n",
    "    # Use the read_csv function to load the data into a pandas DataFrame\n",
    "    df = pd.read_csv(file_path)\n",
    "    \n",
    "    return df"
   ]
  },
  {
   "cell_type": "code",
   "execution_count": 6,
   "id": "abfa06f0-2674-43ff-8a91-15d64c3487f3",
   "metadata": {
    "tags": []
   },
   "outputs": [
    {
     "ename": "NameError",
     "evalue": "name 'pd' is not defined",
     "output_type": "error",
     "traceback": [
      "\u001b[1;31m---------------------------------------------------------------------------\u001b[0m",
      "\u001b[1;31mNameError\u001b[0m                                 Traceback (most recent call last)",
      "\u001b[1;32mc:\\Users\\swkle\\OneDrive\\Dokumenter\\GitHub\\EE_exam\\Data.ipynb Cell 3\u001b[0m line \u001b[0;36m3\n\u001b[0;32m      <a href='vscode-notebook-cell:/c%3A/Users/swkle/OneDrive/Dokumenter/GitHub/EE_exam/Data.ipynb#W2sZmlsZQ%3D%3D?line=0'>1</a>\u001b[0m \u001b[39m#HourlyLoad_df = read_csv_with_path(r\"C:\\Users\\swkle\\OneDrive\\Energy Economics\\Exam\\Data\",\"Hourly_load_data.csv\")\u001b[39;00m\n\u001b[0;32m      <a href='vscode-notebook-cell:/c%3A/Users/swkle/OneDrive/Dokumenter/GitHub/EE_exam/Data.ipynb#W2sZmlsZQ%3D%3D?line=1'>2</a>\u001b[0m curr \u001b[39m=\u001b[39m os\u001b[39m.\u001b[39mgetcwd()\n\u001b[1;32m----> <a href='vscode-notebook-cell:/c%3A/Users/swkle/OneDrive/Dokumenter/GitHub/EE_exam/Data.ipynb#W2sZmlsZQ%3D%3D?line=2'>3</a>\u001b[0m HourlyLoad_df \u001b[39m=\u001b[39m read_csv_with_path(curr,\u001b[39m\"\u001b[39;49m\u001b[39mTotal_load.csv\u001b[39;49m\u001b[39m\"\u001b[39;49m)\n\u001b[0;32m      <a href='vscode-notebook-cell:/c%3A/Users/swkle/OneDrive/Dokumenter/GitHub/EE_exam/Data.ipynb#W2sZmlsZQ%3D%3D?line=3'>4</a>\u001b[0m HourlyLoad_df \u001b[39m=\u001b[39m HourlyLoad_df\u001b[39m.\u001b[39mdropna()\n\u001b[0;32m      <a href='vscode-notebook-cell:/c%3A/Users/swkle/OneDrive/Dokumenter/GitHub/EE_exam/Data.ipynb#W2sZmlsZQ%3D%3D?line=4'>5</a>\u001b[0m HourlyLoad_df[\u001b[39m'\u001b[39m\u001b[39mh_id\u001b[39m\u001b[39m'\u001b[39m] \u001b[39m=\u001b[39m HourlyLoad_df[\u001b[39m'\u001b[39m\u001b[39mTime (CET/CEST)\u001b[39m\u001b[39m'\u001b[39m]\u001b[39m.\u001b[39mstr[\u001b[39m11\u001b[39m:\u001b[39m16\u001b[39m]\n",
      "\u001b[1;32mc:\\Users\\swkle\\OneDrive\\Dokumenter\\GitHub\\EE_exam\\Data.ipynb Cell 3\u001b[0m line \u001b[0;36m9\n\u001b[0;32m      <a href='vscode-notebook-cell:/c%3A/Users/swkle/OneDrive/Dokumenter/GitHub/EE_exam/Data.ipynb#W2sZmlsZQ%3D%3D?line=5'>6</a>\u001b[0m file_path \u001b[39m=\u001b[39m os\u001b[39m.\u001b[39mpath\u001b[39m.\u001b[39mjoin(directory_path, file_name)\n\u001b[0;32m      <a href='vscode-notebook-cell:/c%3A/Users/swkle/OneDrive/Dokumenter/GitHub/EE_exam/Data.ipynb#W2sZmlsZQ%3D%3D?line=7'>8</a>\u001b[0m \u001b[39m# Use the read_csv function to load the data into a pandas DataFrame\u001b[39;00m\n\u001b[1;32m----> <a href='vscode-notebook-cell:/c%3A/Users/swkle/OneDrive/Dokumenter/GitHub/EE_exam/Data.ipynb#W2sZmlsZQ%3D%3D?line=8'>9</a>\u001b[0m df \u001b[39m=\u001b[39m pd\u001b[39m.\u001b[39mread_csv(file_path)\n\u001b[0;32m     <a href='vscode-notebook-cell:/c%3A/Users/swkle/OneDrive/Dokumenter/GitHub/EE_exam/Data.ipynb#W2sZmlsZQ%3D%3D?line=10'>11</a>\u001b[0m \u001b[39mreturn\u001b[39;00m df\n",
      "\u001b[1;31mNameError\u001b[0m: name 'pd' is not defined"
     ]
    }
   ],
   "source": [
    "#HourlyLoad_df = read_csv_with_path(r\"C:\\Users\\swkle\\OneDrive\\Energy Economics\\Exam\\Data\",\"Hourly_load_data.csv\")\n",
    "curr = os.getcwd()\n",
    "HourlyLoad_df = read_csv_with_path(curr,\"Total_load.csv\")\n",
    "HourlyLoad_df = HourlyLoad_df.dropna()\n",
    "HourlyLoad_df['h_id'] = HourlyLoad_df['Time (CET/CEST)'].str[11:16]\n",
    "Average_hourly_load = pd.Series(HourlyLoad_df.groupby('h_id')['Actual Total Load [MW] - BZN|DK2'].mean(), name = 'Average Hourly Load')"
   ]
  },
  {
   "cell_type": "code",
   "execution_count": null,
   "id": "7e19c172-f234-4ebd-9c13-77ae21f9b585",
   "metadata": {},
   "outputs": [],
   "source": []
  },
  {
   "cell_type": "code",
   "execution_count": null,
   "id": "b8f4c02e-4565-4f55-8603-821429ab60e8",
   "metadata": {},
   "outputs": [],
   "source": []
  }
 ],
 "metadata": {
  "kernelspec": {
   "display_name": "Python 3 (ipykernel)",
   "language": "python",
   "name": "python3"
  },
  "language_info": {
   "codemirror_mode": {
    "name": "ipython",
    "version": 3
   },
   "file_extension": ".py",
   "mimetype": "text/x-python",
   "name": "python",
   "nbconvert_exporter": "python",
   "pygments_lexer": "ipython3",
   "version": "3.11.3"
  }
 },
 "nbformat": 4,
 "nbformat_minor": 5
}
